{
 "cells": [
  {
   "cell_type": "markdown",
   "id": "1c79bc07",
   "metadata": {},
   "source": [
    "<h1 style=\"text-align: center;\">Práctica Estadística</h1>"
   ]
  },
  {
   "cell_type": "markdown",
   "id": "6ae965fe",
   "metadata": {},
   "source": [
    "<h2 style=\"text-align: center;\">Estudio: \"Hipertensión\"</h2>"
   ]
  },
  {
   "cell_type": "markdown",
   "id": "bc97ee73",
   "metadata": {},
   "source": [
    "# Resumen:\n",
    "En un laboratorio europeo se realiza un estudio para reducir la hipertensión arterial mediante un medicamento innovador con cierta composición de etanol. El medicamento se suministra a 100 pacientes de diferentes edades, a las cuales se les divide en dos grupos: adultos con edad igual o inferior a 35 años y adultos con edad superior a 35 años. En un archivo de Excel (\"Hipertensión.xlsx\") se almacenan los datos que analizaremos para evaluar el estudio y determinar la eficacia del medicamento en la población adulta.\n",
    "\n",
    "-----"
   ]
  },
  {
   "cell_type": "markdown",
   "id": "9715aa8c",
   "metadata": {},
   "source": [
    "## Importación y lectura de datos"
   ]
  },
  {
   "cell_type": "code",
   "execution_count": 1,
   "id": "34d047b4",
   "metadata": {},
   "outputs": [],
   "source": [
    "#Importamos las librerías necesarias para realizar operaciones y visualizar nuestro análisis\n",
    "import scipy.stats as stats\n",
    "import numpy as np\n",
    "import pandas as pd\n",
    "import matplotlib.pyplot as plt\n",
    "import seaborn as sns"
   ]
  },
  {
   "cell_type": "code",
   "execution_count": 2,
   "id": "0594532f",
   "metadata": {},
   "outputs": [
    {
     "data": {
      "text/html": [
       "<div>\n",
       "<style scoped>\n",
       "    .dataframe tbody tr th:only-of-type {\n",
       "        vertical-align: middle;\n",
       "    }\n",
       "\n",
       "    .dataframe tbody tr th {\n",
       "        vertical-align: top;\n",
       "    }\n",
       "\n",
       "    .dataframe thead th {\n",
       "        text-align: right;\n",
       "    }\n",
       "</style>\n",
       "<table border=\"1\" class=\"dataframe\">\n",
       "  <thead>\n",
       "    <tr style=\"text-align: right;\">\n",
       "      <th></th>\n",
       "      <th>Grupo</th>\n",
       "      <th>Edad</th>\n",
       "      <th>Presion sistólica antes</th>\n",
       "      <th>Presión sistólica después</th>\n",
       "      <th>Colesterol total</th>\n",
       "    </tr>\n",
       "  </thead>\n",
       "  <tbody>\n",
       "    <tr>\n",
       "      <th>0</th>\n",
       "      <td>1</td>\n",
       "      <td>30</td>\n",
       "      <td>126</td>\n",
       "      <td>118</td>\n",
       "      <td>191</td>\n",
       "    </tr>\n",
       "    <tr>\n",
       "      <th>1</th>\n",
       "      <td>1</td>\n",
       "      <td>25</td>\n",
       "      <td>114</td>\n",
       "      <td>110</td>\n",
       "      <td>174</td>\n",
       "    </tr>\n",
       "    <tr>\n",
       "      <th>2</th>\n",
       "      <td>1</td>\n",
       "      <td>27</td>\n",
       "      <td>110</td>\n",
       "      <td>110</td>\n",
       "      <td>175</td>\n",
       "    </tr>\n",
       "    <tr>\n",
       "      <th>3</th>\n",
       "      <td>1</td>\n",
       "      <td>34</td>\n",
       "      <td>108</td>\n",
       "      <td>105</td>\n",
       "      <td>173</td>\n",
       "    </tr>\n",
       "    <tr>\n",
       "      <th>4</th>\n",
       "      <td>1</td>\n",
       "      <td>35</td>\n",
       "      <td>131</td>\n",
       "      <td>132</td>\n",
       "      <td>200</td>\n",
       "    </tr>\n",
       "    <tr>\n",
       "      <th>...</th>\n",
       "      <td>...</td>\n",
       "      <td>...</td>\n",
       "      <td>...</td>\n",
       "      <td>...</td>\n",
       "      <td>...</td>\n",
       "    </tr>\n",
       "    <tr>\n",
       "      <th>95</th>\n",
       "      <td>2</td>\n",
       "      <td>54</td>\n",
       "      <td>117</td>\n",
       "      <td>100</td>\n",
       "      <td>194</td>\n",
       "    </tr>\n",
       "    <tr>\n",
       "      <th>96</th>\n",
       "      <td>2</td>\n",
       "      <td>50</td>\n",
       "      <td>148</td>\n",
       "      <td>141</td>\n",
       "      <td>239</td>\n",
       "    </tr>\n",
       "    <tr>\n",
       "      <th>97</th>\n",
       "      <td>2</td>\n",
       "      <td>54</td>\n",
       "      <td>121</td>\n",
       "      <td>115</td>\n",
       "      <td>196</td>\n",
       "    </tr>\n",
       "    <tr>\n",
       "      <th>98</th>\n",
       "      <td>2</td>\n",
       "      <td>52</td>\n",
       "      <td>154</td>\n",
       "      <td>155</td>\n",
       "      <td>270</td>\n",
       "    </tr>\n",
       "    <tr>\n",
       "      <th>99</th>\n",
       "      <td>2</td>\n",
       "      <td>46</td>\n",
       "      <td>120</td>\n",
       "      <td>116</td>\n",
       "      <td>214</td>\n",
       "    </tr>\n",
       "  </tbody>\n",
       "</table>\n",
       "<p>100 rows × 5 columns</p>\n",
       "</div>"
      ],
      "text/plain": [
       "    Grupo  Edad  Presion sistólica antes  Presión sistólica después  \\\n",
       "0       1    30                      126                        118   \n",
       "1       1    25                      114                        110   \n",
       "2       1    27                      110                        110   \n",
       "3       1    34                      108                        105   \n",
       "4       1    35                      131                        132   \n",
       "..    ...   ...                      ...                        ...   \n",
       "95      2    54                      117                        100   \n",
       "96      2    50                      148                        141   \n",
       "97      2    54                      121                        115   \n",
       "98      2    52                      154                        155   \n",
       "99      2    46                      120                        116   \n",
       "\n",
       "    Colesterol total  \n",
       "0                191  \n",
       "1                174  \n",
       "2                175  \n",
       "3                173  \n",
       "4                200  \n",
       "..               ...  \n",
       "95               194  \n",
       "96               239  \n",
       "97               196  \n",
       "98               270  \n",
       "99               214  \n",
       "\n",
       "[100 rows x 5 columns]"
      ]
     },
     "execution_count": 2,
     "metadata": {},
     "output_type": "execute_result"
    }
   ],
   "source": [
    "#Leemos el archivo de excel y creamos un DataFrame para visualizar y verificar que todos los datos se muestren en la tabla.\n",
    "df = pd.read_excel('HIPERTENSION.xlsx')\n",
    "df"
   ]
  },
  {
   "cell_type": "code",
   "execution_count": 3,
   "id": "55dd635d",
   "metadata": {
    "scrolled": true
   },
   "outputs": [
    {
     "name": "stdout",
     "output_type": "stream",
     "text": [
      "<class 'pandas.core.frame.DataFrame'>\n",
      "RangeIndex: 100 entries, 0 to 99\n",
      "Data columns (total 5 columns):\n",
      " #   Column                     Non-Null Count  Dtype\n",
      "---  ------                     --------------  -----\n",
      " 0   Grupo                      100 non-null    int64\n",
      " 1   Edad                       100 non-null    int64\n",
      " 2   Presion sistólica antes    100 non-null    int64\n",
      " 3   Presión sistólica después  100 non-null    int64\n",
      " 4   Colesterol total           100 non-null    int64\n",
      "dtypes: int64(5)\n",
      "memory usage: 4.0 KB\n"
     ]
    }
   ],
   "source": [
    "#Observamos a grandes rasgos los datos de nuestra tabla, de qué tipo son y si hay valores nulos.\n",
    "df.info()"
   ]
  },
  {
   "cell_type": "markdown",
   "id": "eb6e9389",
   "metadata": {},
   "source": [
    "Después de revisar con detenimiento los datos que se nos han proporcionado, confirmamos que no se necesita de ningún proceso de limpieza y podemos proceder al estudio."
   ]
  },
  {
   "cell_type": "markdown",
   "id": "fa83e495",
   "metadata": {},
   "source": [
    "<hr style=\"border:2px solid blue\">"
   ]
  },
  {
   "cell_type": "markdown",
   "id": "dea8618e",
   "metadata": {},
   "source": [
    "# Ejercicio 1"
   ]
  },
  {
   "cell_type": "markdown",
   "id": "b0f97118",
   "metadata": {},
   "source": [
    "##  a) Medidas de centralización y dispersión\n",
    "Obtendremos las medidas de centralización y dispersión para cada uno de los dos grupos de control de la variable (grupo 1 y grupo 2) que mide la presión sistólica antes de la toma del medicamento. Indicaremos si la media en cada uno de estos grupos puede considerarse representativa a partir de los datos obtenidos."
   ]
  },
  {
   "cell_type": "code",
   "execution_count": 4,
   "id": "0d96ba05",
   "metadata": {
    "scrolled": false
   },
   "outputs": [
    {
     "name": "stdout",
     "output_type": "stream",
     "text": [
      "Medidas para cada grupo:\n",
      "Grupo 1:\n",
      "Media: 123.425\n",
      "Mediana: 124.5\n",
      "Moda: [121, 125, 128, 131]\n",
      "Varianza: 81.4814\n",
      "Desviación estándar: 9.0267\n",
      "Rango: 37\n",
      "Coeficiente de variación: 0.0731\n",
      "\n",
      "Grupo 2:\n",
      "Media: 127.4833\n",
      "Mediana: 126.0\n",
      "Moda: [121]\n",
      "Varianza: 192.898\n",
      "Desviación estándar: 13.8888\n",
      "Rango: 58\n",
      "Coeficiente de variación: 0.1089\n",
      "\n",
      "*El valor de moda se representa como lista, ya que puede ocurrir que haya más de un valor por grupo.\n"
     ]
    }
   ],
   "source": [
    "def calcular_medidas_grupo(df_grupo):\n",
    "    medidas = {}\n",
    "    medidas['Media'] = round(df_grupo.mean(), 4)\n",
    "    medidas['Mediana'] = df_grupo.median()\n",
    "    medidas['Moda'] = list(df_grupo.mode())\n",
    "    medidas['Varianza'] = round(df_grupo.var(), 4)\n",
    "    medidas['Desviación estándar'] = round(df_grupo.std(), 4)\n",
    "    medidas['Rango'] = df_grupo.max() - df_grupo.min()\n",
    "    medidas['Coeficiente de variación'] = round(medidas['Desviación estándar'] / medidas['Media'], 4)\n",
    "    return medidas\n",
    "\n",
    "medidas_grupos = {}\n",
    "\n",
    "for grupo_id in df['Grupo'].unique():\n",
    "    df_grupo = df.loc[df['Grupo'] == grupo_id]['Presion sistólica antes']\n",
    "    medidas_grupos[grupo_id] = calcular_medidas_grupo(df_grupo)\n",
    "\n",
    "print(\"Medidas para cada grupo:\")\n",
    "for grupo_id, medidas in medidas_grupos.items():\n",
    "    print(f\"Grupo {grupo_id}:\")\n",
    "    for medida, valor in medidas.items():\n",
    "        print(f\"{medida}: {valor}\")\n",
    "    print()\n",
    "print('*El valor de moda se representa como lista, ya que puede ocurrir que haya más de un valor por grupo.')"
   ]
  },
  {
   "cell_type": "markdown",
   "id": "d46e2c16",
   "metadata": {},
   "source": [
    "### Representatividad de la media:\n",
    "El coeficiente de variación para el Grupo 1 es **0.0731** y para el Grupo 2 es **0.1089**. Ambos valores son relativamente bajos (<0.30), lo que sugiere que la media puede considerarse representativa en ambos grupos."
   ]
  },
  {
   "cell_type": "markdown",
   "id": "ab9d5bad",
   "metadata": {},
   "source": [
    "---"
   ]
  },
  {
   "cell_type": "markdown",
   "id": "1a43f528",
   "metadata": {},
   "source": [
    "## b) Simetría y curtosis del nivel de presión sistólica en Grupo 2\n",
    "Estudiaremos la simetría y la curtosis del nivel de presión sistólica en los pacientes del segundo grupo para cada una de las mediciones de la hipertensión que aparecen en la tabla."
   ]
  },
  {
   "cell_type": "code",
   "execution_count": 5,
   "id": "a6bc0036",
   "metadata": {
    "scrolled": true
   },
   "outputs": [
    {
     "name": "stdout",
     "output_type": "stream",
     "text": [
      "Simetría y curtosis del Grupo 2:\n",
      "Para 'presión sistólica antes':\n",
      "Simetría: -0.1366\n",
      "Curtosis: -0.6021\n",
      "\n",
      "Para 'presión sistólica después':\n",
      "Simetría: -0.1938\n",
      "Curtosis: 0.3692\n"
     ]
    }
   ],
   "source": [
    "df_grupo2 = df[df['Grupo'] == 2]\n",
    "\n",
    "simetria_before = round(df_grupo2['Presion sistólica antes'].skew(), 4)\n",
    "curtosis_before = round(df_grupo2['Presion sistólica antes'].kurtosis(), 4)\n",
    "\n",
    "simetria_after = round(df_grupo2['Presión sistólica después'].skew(), 4)\n",
    "curtosis_after = round(df_grupo2['Presión sistólica después'].kurtosis(), 4)\n",
    "\n",
    "print(\"Simetría y curtosis del Grupo 2:\")\n",
    "print(\"Para 'presión sistólica antes':\")\n",
    "print(\"Simetría:\", simetria_before)\n",
    "print(\"Curtosis:\", curtosis_before)\n",
    "print()\n",
    "print(\"Para 'presión sistólica después':\")\n",
    "print(\"Simetría:\", simetria_after)\n",
    "print(\"Curtosis:\", curtosis_after)"
   ]
  },
  {
   "cell_type": "code",
   "execution_count": 6,
   "id": "47fd320f",
   "metadata": {},
   "outputs": [
    {
     "data": {
      "image/png": "[encoded data removed]",
      "text/plain": [
       "<Figure size 1000x500 with 2 Axes>"
      ]
     },
     "metadata": {},
     "output_type": "display_data"
    }
   ],
   "source": [
    "#Datos de presión sistólica antes y después del Grupo 2\n",
    "presion_antes = df_grupo2['Presion sistólica antes']\n",
    "presion_despues = df_grupo2['Presión sistólica después']\n",
    "\n",
    "#Gráfico de histograma con KDE para presión sistólica antes\n",
    "plt.figure(figsize=(10, 5))\n",
    "plt.subplot(1, 2, 1)\n",
    "presion_antes.plot(kind='hist', bins=10, density=True, alpha=0.6, title='Histograma con KDE - Presión sistólica antes', color='blue')\n",
    "presion_antes.plot(kind='kde', linestyle='--', color='black')\n",
    "plt.xlabel('Presión')\n",
    "\n",
    "#Gráfico de histograma con KDE para presión sistólica después\n",
    "plt.subplot(1, 2, 2)\n",
    "presion_despues.plot(kind='hist', bins=10, density=True, alpha=0.6, title='Histograma con KDE - Presión sistólica después', color='green')\n",
    "presion_despues.plot(kind='kde', linestyle='--', color='black')\n",
    "plt.xlabel('Presión')\n",
    "\n",
    "plt.tight_layout()\n",
    "plt.show()"
   ]
  },
  {
   "cell_type": "markdown",
   "id": "672a133c",
   "metadata": {},
   "source": [
    "Basándonos en los resultados proporcionados:\n",
    "\n",
    "La simetría de ambas distribuciones ('Presión sistólica antes' y 'Presión sistólica después') es cercana a 0, lo que indica una simetría razonablemente buena. \n",
    "\n",
    "Sin embargo, la curtosis de la primera toma de presión sistólica es negativa (platicúrtica) y la de la segunda es positiva (leptocúrtica). Esto sugiere que no siguen una distribución normal estándar."
   ]
  },
  {
   "cell_type": "markdown",
   "id": "cf156c82",
   "metadata": {},
   "source": [
    "---"
   ]
  },
  {
   "cell_type": "markdown",
   "id": "8d237313",
   "metadata": {},
   "source": [
    "## c) Cuartiles y box-plot\n",
    "Indicaremos para cada una de las variables relacionadas con la medición de la presión sistólica que aparecen en el fichero el valor de los cuartiles y su significado y obtener el box-plot (diagrama de cajas) correspondiente. Después, estudiaremos la presencia de valores atípicos."
   ]
  },
  {
   "cell_type": "code",
   "execution_count": 7,
   "id": "ce345d4e",
   "metadata": {},
   "outputs": [
    {
     "name": "stdout",
     "output_type": "stream",
     "text": [
      "Mediana Presión sistólica antes: 125.0\n",
      "Mediana Presión sistólica después: 120.0\n"
     ]
    }
   ],
   "source": [
    "#Mediana de 'Presión sistólica antes' y 'Presión sistólica después' para ver si coincide en ambos Q2. \n",
    "mediana_ps_antes = df['Presion sistólica antes'].median()\n",
    "mediana_ps_despues = df['Presión sistólica después'].median()\n",
    "\n",
    "print(f'Mediana Presión sistólica antes: {mediana_ps_antes}')\n",
    "print(f'Mediana Presión sistólica después: {mediana_ps_despues}')"
   ]
  },
  {
   "cell_type": "code",
   "execution_count": 8,
   "id": "ab5c73b9",
   "metadata": {
    "scrolled": false
   },
   "outputs": [
    {
     "name": "stdout",
     "output_type": "stream",
     "text": [
      "Cuartiles:\n",
      "Cuartil 25% (Q1) - Presión sistólica antes: 118.0\n",
      "Cuartil 50% (Q2) - Presión sistólica antes: 125.0\n",
      "Cuartil 75% (Q3) - Presión sistólica antes: 135.0\n",
      "\n",
      "Cuartil 25% (Q1) - Presión sistólica después: 115.0\n",
      "Cuartil 50% (Q2) - Presión sistólica después: 120.0\n",
      "Cuartil 75% (Q3) - Presión sistólica después: 131.25\n"
     ]
    },
    {
     "data": {
      "image/png": "[encoded data removed]",
      "text/plain": [
       "<Figure size 1000x600 with 1 Axes>"
      ]
     },
     "metadata": {},
     "output_type": "display_data"
    }
   ],
   "source": [
    "#Cuartiles para 'Presion sistólica antes'\n",
    "cuartiles_antes = df['Presion sistólica antes'].quantile([0.25, 0.5, 0.75])\n",
    "\n",
    "#Significado de los cuartiles para 'Presion sistólica antes'\n",
    "print('Cuartiles:')\n",
    "print(\"Cuartil 25% (Q1) - Presión sistólica antes:\", cuartiles_antes[0.25])\n",
    "print(\"Cuartil 50% (Q2) - Presión sistólica antes:\", cuartiles_antes[0.5])\n",
    "print(\"Cuartil 75% (Q3) - Presión sistólica antes:\", cuartiles_antes[0.75])\n",
    "print()\n",
    "\n",
    "\n",
    "#Cuartiles para 'Presion sistólica después'\n",
    "cuartiles_despues = df['Presión sistólica después'].quantile([0.25, 0.5, 0.75])\n",
    "\n",
    "#Significado de los cuartiles para 'Presion sistólica después'\n",
    "print(\"Cuartil 25% (Q1) - Presión sistólica después:\", cuartiles_despues[0.25])\n",
    "print(\"Cuartil 50% (Q2) - Presión sistólica después:\", cuartiles_despues[0.5])\n",
    "print(\"Cuartil 75% (Q3) - Presión sistólica después:\", cuartiles_despues[0.75])\n",
    "\n",
    "#Box-plot para 'Presion sistólica antes' y 'Presion sistólica después'\n",
    "plt.figure(figsize=(10, 6))\n",
    "plt.boxplot([df['Presion sistólica antes'], df['Presión sistólica después']], vert=False, labels=['Presión sistólica antes', 'Presión sistólica después'], flierprops=dict(marker='o', markersize=8, markerfacecolor='red'))\n",
    "\n",
    "plt.title('Diagrama de Cajas - Presión sistólica antes y después')\n",
    "plt.xlabel('Presión')\n",
    "plt.ylabel('Medición')\n",
    "\n",
    "plt.show()"
   ]
  },
  {
   "cell_type": "markdown",
   "id": "504832d9",
   "metadata": {},
   "source": [
    "### Presencia de *outliers*\n",
    "El diagrama de caja presenta, en el caso de la **'Presión sistólica después'**, algunos valores atípicos por debajo del límite inferior y por encima del límite superior. Para encontrar dichos valores haremos el siguiente cálculo y arrojaremos los resultados junto a su índice en la tabla:"
   ]
  },
  {
   "cell_type": "code",
   "execution_count": 9,
   "id": "4ae9d9da",
   "metadata": {},
   "outputs": [
    {
     "name": "stdout",
     "output_type": "stream",
     "text": [
      "Valores atípicos en 'Presión sistólica después':\n",
      "42    158\n",
      "61    161\n",
      "65     83\n",
      "67     90\n",
      "80     77\n",
      "Name: Presión sistólica después, dtype: int64\n"
     ]
    }
   ],
   "source": [
    "#Cuartiles y rango intercuartílico para 'Presión sistólica después'\n",
    "Q1_despues, Q3_despues = cuartiles_despues[0.25], cuartiles_despues[0.75]\n",
    "IQR_despues = Q3_despues - Q1_despues\n",
    "\n",
    "#Encontrar valores atípicos para 'Presión sistólica después'\n",
    "valores_atipicos_despues = df[(df['Presión sistólica después'] < Q1_despues - 1.5 * IQR_despues) | (df['Presión sistólica después'] > Q3_despues + 1.5 * IQR_despues)]['Presión sistólica después']\n",
    "\n",
    "print(\"Valores atípicos en 'Presión sistólica después':\")\n",
    "print(valores_atipicos_despues)"
   ]
  },
  {
   "cell_type": "markdown",
   "id": "1c191c83",
   "metadata": {},
   "source": [
    "Los valores atípicos **158** y **161** corresponden a los valores que se visualizan por encima del límite superior y los valores **77**, **83** y **90** corresponden a los que están por debajo del límite inferior en el diagrama de caja. \n",
    "\n",
    "Estos valores pueden estar influenciando la distribución de los datos en la columna 'Presión sistólica después'. Considerando que presenta una simetría negativa y una distribución leptocúrtica, es razonable deducir que los valores atípicos han sesgado la distribución a la derecha. \n",
    "\n",
    "Verificaremos rápidamente cómo cambiaría la distribución al eliminar estos valores atípicos, comparando las estadísticas resumidas y visualizando su distribución antes y después mediante un histograma."
   ]
  },
  {
   "cell_type": "code",
   "execution_count": 10,
   "id": "136c50fc",
   "metadata": {
    "scrolled": false
   },
   "outputs": [
    {
     "name": "stdout",
     "output_type": "stream",
     "text": [
      "Estadísticas resumidas antes de eliminar valores atípicos:\n",
      "count    100.000000\n",
      "mean     122.030000\n",
      "std       14.754869\n",
      "min       77.000000\n",
      "25%      115.000000\n",
      "50%      120.000000\n",
      "75%      131.250000\n",
      "max      161.000000\n",
      "Name: Presión sistólica después, dtype: float64\n",
      "\n",
      "Estadísticas resumidas después de eliminar valores atípicos:\n",
      "count     95.000000\n",
      "mean     122.463158\n",
      "std       12.267246\n",
      "min       96.000000\n",
      "25%      115.000000\n",
      "50%      120.000000\n",
      "75%      131.000000\n",
      "max      155.000000\n",
      "Name: Presión sistólica después, dtype: float64\n"
     ]
    },
    {
     "data": {
      "image/png": "[encoded data removed]",
      "text/plain": [
       "<Figure size 1000x500 with 1 Axes>"
      ]
     },
     "metadata": {},
     "output_type": "display_data"
    },
    {
     "data": {
      "image/png": "[encoded data removed]",
      "text/plain": [
       "<Figure size 1000x500 with 1 Axes>"
      ]
     },
     "metadata": {},
     "output_type": "display_data"
    }
   ],
   "source": [
    "#Estadísticas resumidas antes de eliminar valores atípicos\n",
    "stats_antes = df['Presión sistólica después'].describe()\n",
    "\n",
    "#Eliminación valores atípicos usando el rango intercuartílico\n",
    "df_sin_atipicos = df[(df['Presión sistólica después'] >= Q1_despues - 1.5 * IQR_despues) & (df['Presión sistólica después'] <= Q3_despues + 1.5 * IQR_despues)]\n",
    "\n",
    "#Estadísticas resumidas después de eliminar valores atípicos\n",
    "stats_despues = df_sin_atipicos['Presión sistólica después'].describe()\n",
    "\n",
    "#Imprimir estadísticas resumidas antes y después\n",
    "print(\"Estadísticas resumidas antes de eliminar valores atípicos:\")\n",
    "print(stats_antes)\n",
    "print(\"\\nEstadísticas resumidas después de eliminar valores atípicos:\")\n",
    "print(stats_despues)\n",
    "\n",
    "#Grafico de la distribución original\n",
    "plt.figure(figsize=(10, 5))\n",
    "sns.histplot(df['Presión sistólica después'], kde=True, color='blue', bins=30)\n",
    "plt.title('Distribución de la presión sistólica después (antes de eliminar valores atípicos)')\n",
    "plt.xlabel('Presión sistólica')\n",
    "plt.ylabel('Frecuencia')\n",
    "plt.show()\n",
    "\n",
    "#Grafico de la distribución después de eliminar valores atípicos\n",
    "plt.figure(figsize=(10, 5))\n",
    "sns.histplot(df_sin_atipicos['Presión sistólica después'], kde=True, color='green', bins=30)\n",
    "plt.title('Distribución de la presión sistólica después (después de eliminar valores atípicos)')\n",
    "plt.xlabel('Presión sistólica')\n",
    "plt.ylabel('Frecuencia')\n",
    "plt.show()"
   ]
  },
  {
   "cell_type": "markdown",
   "id": "269c67db",
   "metadata": {},
   "source": [
    "Al contrastar los dos gráficos, no observamos una diferencia significativa a simple vista. \n",
    "\n",
    "Analizando las estadísticas resumidas, se evidencia un ligero desvío de la media hacia abajo por los valores atípicos, junto con una variabilidad mayor de la desviación estándar. Sin embargo, los valores similares de los cuartiles sugiere que la distribución central de los datos no ha cambiado mucho después de eliminar los valores atípicos.\n",
    "\n",
    "Deducimos, así, que los valores atípicos no afectan significativamente la distribución de los datos de la 'Presión sistólica después'."
   ]
  },
  {
   "cell_type": "markdown",
   "id": "36a6eecd",
   "metadata": {},
   "source": [
    "---"
   ]
  },
  {
   "cell_type": "markdown",
   "id": "2e9b6c01",
   "metadata": {},
   "source": [
    "## d) Prueba de normalidad\n",
    "Mediante un QQ plot, compararemos los cuantiles de los datos relacionados a la presión sistólica con los cuantiles teóricos esperados de una distribución normal para observar qué tanto se alinean. Nuestras variables siguen siendo la 'Presión sistólica antes' y la 'Presión sistólica después'."
   ]
  },
  {
   "cell_type": "code",
   "execution_count": 11,
   "id": "6ab966fd",
   "metadata": {},
   "outputs": [
    {
     "data": {
      "image/png": "[encoded data removed]",
      "text/plain": [
       "<Figure size 1400x600 with 2 Axes>"
      ]
     },
     "metadata": {},
     "output_type": "display_data"
    }
   ],
   "source": [
    "#Asignamos los datos de las dos columnas a sus respectivas variables\n",
    "presion_antes = df['Presion sistólica antes']\n",
    "presion_despues = df['Presión sistólica después']\n",
    "\n",
    "#Creamos figura y ejes de subplots\n",
    "fig, axs = plt.subplots(1, 2, figsize=(14, 6))\n",
    "\n",
    "#QQ plot para presión sistólica antes\n",
    "stats.probplot(presion_antes, dist=\"norm\", plot=axs[0])\n",
    "axs[0].set_title('QQ Plot para Presión sistólica antes')\n",
    "axs[0].set_xlabel('Cuantiles teóricos')\n",
    "axs[0].set_ylabel('Cuantiles de los datos')\n",
    "\n",
    "#QQ plot para presión sistólica después\n",
    "stats.probplot(presion_despues, dist=\"norm\", plot=axs[1])\n",
    "axs[1].set_title('QQ Plot para Presión sistólica después')\n",
    "axs[1].set_xlabel('Cuantiles teóricos')\n",
    "axs[1].set_ylabel('Cuantiles de los datos')\n",
    "\n",
    "plt.tight_layout()\n",
    "plt.show()"
   ]
  },
  {
   "cell_type": "markdown",
   "id": "e23b73c2",
   "metadata": {},
   "source": [
    "Inmediatamente observamos que la variable de 'Presión sistólica antes' presenta una distribución más alineada a la normal; mientras que la de 'Presión sistólica después' presenta más desviaciones de la línea recta, como habíamos observado al estudiar la presencia de valores atípicos en esta variable. \n",
    "\n",
    "A continuación, combinaremos nuestra evaluación con la prueba de Shapiro-Wilk para obtener una imagen más completa y precisa de la distribución de los datos en ambas variables."
   ]
  },
  {
   "cell_type": "markdown",
   "id": "2fbcb147",
   "metadata": {},
   "source": [
    "### Prueba de normalidad Shapiro-Wilk\n",
    "Nuestras hipótesis son:\n",
    "1. **Hipótesis nula (H0): los datos siguen una distribución normal.**\n",
    "2. **Hipótesis alternativa (H1): los datos no siguen una distribución normal.**\n",
    "\n",
    "De acuerdo al **valor p** que obtengamos de nuestra prueba (en contraste con un nivel de significancia de 0.05), pasaremos a rechazar o no rechazar nuestra hipótesis nula."
   ]
  },
  {
   "cell_type": "code",
   "execution_count": 12,
   "id": "c79f4b39",
   "metadata": {},
   "outputs": [
    {
     "name": "stdout",
     "output_type": "stream",
     "text": [
      "Prueba de Shapiro-Wilk para Presión sistólica antes:\n",
      "Estadístico de prueba: 0.9919236302375793\n",
      "Valor p: 0.8156657218933105\n",
      "No se rechaza la hipótesis nula. Los datos parecen provenir de una distribución normal.\n",
      "\n",
      "Prueba de Shapiro-Wilk para Presión sistólica después:\n",
      "Estadístico de prueba: 0.9788827300071716\n",
      "Valor p: 0.1087479442358017\n",
      "No se rechaza la hipótesis nula. Los datos parecen provenir de una distribución normal.\n"
     ]
    }
   ],
   "source": [
    "#Prueba de normalidad de Shapiro-Wilk para presión sistólica antes\n",
    "shapiro_antes = stats.shapiro(presion_antes)\n",
    "print(\"Prueba de Shapiro-Wilk para Presión sistólica antes:\")\n",
    "print(\"Estadístico de prueba:\", shapiro_antes[0])\n",
    "print(\"Valor p:\", shapiro_antes[1])\n",
    "if shapiro_antes[1] > 0.05:\n",
    "    print(\"No se rechaza la hipótesis nula. Los datos parecen provenir de una distribución normal.\")\n",
    "else:\n",
    "    print(\"Se rechaza la hipótesis nula. Los datos no parecen provenir de una distribución normal.\")\n",
    "    \n",
    "#Prueba de normalidad de Shapiro-Wilk para presión sistólica después\n",
    "shapiro_despues = stats.shapiro(presion_despues)\n",
    "print(\"\\nPrueba de Shapiro-Wilk para Presión sistólica después:\")\n",
    "print(\"Estadístico de prueba:\", shapiro_despues[0])\n",
    "print(\"Valor p:\", shapiro_despues[1])\n",
    "if shapiro_despues[1] > 0.05:\n",
    "    print(\"No se rechaza la hipótesis nula. Los datos parecen provenir de una distribución normal.\")\n",
    "else:\n",
    "    print(\"Se rechaza la hipótesis nula. Los datos no parecen provenir de una distribución normal.\")"
   ]
  },
  {
   "cell_type": "markdown",
   "id": "57631d8a",
   "metadata": {},
   "source": [
    "### Conclusión\n",
    "Basándonos en los resultados de la prueba Shapiro-Wilk y del gráfico QQ plot para la presión sistólica antes y después de la ingestión del medicamento, podemos concluir que **los datos presentados en ambas variables parecen seguir una distribución normal**. A pesar de las desviaciones indicadas por los valores de curtosis y el estudio de valores atípicos, los datos aún se aproximan lo suficiente a una distribución normal para que la prueba de normalidad no detecte una desviación significativa."
   ]
  },
  {
   "cell_type": "markdown",
   "id": "9ad9d334",
   "metadata": {},
   "source": [
    "<hr style=\"border:2px solid blue\">"
   ]
  },
  {
   "cell_type": "markdown",
   "id": "3be48709",
   "metadata": {},
   "source": [
    "# Ejercicio 2\n",
    "Con los datos del fichero anterior, queremos estudiar la relación existente entre la presión sistólica después de la toma del medicamento y el colesterol total del paciente en los pacientes jóvenes (grupo 1)."
   ]
  },
  {
   "cell_type": "markdown",
   "id": "4a4d56e1",
   "metadata": {},
   "source": [
    "## a) Relación lineal entre la presión sistólica después de la ingestión del medicamento y el colesterol de los pacientes jóvenes (Grupo 1)"
   ]
  },
  {
   "cell_type": "markdown",
   "id": "e71c0006",
   "metadata": {},
   "source": [
    "Identificamos el 'Colesterol total' del Grupo 1 como nuestra variable independiente (x) y la 'Presión sistólica después' del Grupo 1 como nuestra variable dependiente (y), en el contexto del estudio y desde un punto de vista biológico, que indica que es más plausible que el colesterol afecte a la presión arterial, que a la inversa. \n",
    "\n",
    "Obtendremos los valores de covarianza y de coeficiente de correlación, primeramente, para entender la relación entre estas dos variables."
   ]
  },
  {
   "cell_type": "code",
   "execution_count": 13,
   "id": "fa2d90df",
   "metadata": {},
   "outputs": [],
   "source": [
    "#Declaración de variables para asignar presión sistólica y colesterol de Grupo 1\n",
    "presion_despues_grupo1 = df[df['Grupo'] == 1]['Presión sistólica después']\n",
    "colesterol_grupo1 = df[df['Grupo'] == 1]['Colesterol total']"
   ]
  },
  {
   "cell_type": "code",
   "execution_count": 14,
   "id": "18d7014c",
   "metadata": {},
   "outputs": [
    {
     "name": "stdout",
     "output_type": "stream",
     "text": [
      "Covarianza entre Presión sistólica después y Colesterol total (Grupo 1): 84.3769\n",
      "\n",
      "Coeficiente de correlación entre Presión sistólica después y Colesterol total (Grupo 1): 0.7671351113736181\n"
     ]
    }
   ],
   "source": [
    "#Covarianza entre colesterol y presión sistólica después\n",
    "covarianza = np.cov(colesterol_grupo1, presion_despues_grupo1)[0, 1]\n",
    "\n",
    "print(\"Covarianza entre Presión sistólica después y Colesterol total (Grupo 1):\", round(covarianza, 4))\n",
    "print()\n",
    "\n",
    "#Calculamos el coeficiente de correlación\n",
    "coef_corr = np.corrcoef(colesterol_grupo1, presion_despues_grupo1)[0, 1]\n",
    "\n",
    "print(\"Coeficiente de correlación entre Presión sistólica después y Colesterol total (Grupo 1):\", coef_corr)"
   ]
  },
  {
   "cell_type": "markdown",
   "id": "4f62d737",
   "metadata": {},
   "source": [
    "Una covarianza de **84.3769** sugiere una relación positiva entre ambas variables, lo que significa que cuando una variable aumenta, la otra también tiende a aumentar.\n",
    "\n",
    "Además, una valor de **0.7671** de coeficiente de correlación nos indica que hay una correlación positiva fuerte entre el colesterol total del paciente y la presión sistólica después de la ingesta del medicamento. La relación lineal entre las dos variables es significativa en el caso de los pacientes del Grupo 1. "
   ]
  },
  {
   "cell_type": "markdown",
   "id": "342fcb5e",
   "metadata": {},
   "source": [
    "### Gráfico de dispersión"
   ]
  },
  {
   "cell_type": "code",
   "execution_count": 15,
   "id": "8411bdcc",
   "metadata": {},
   "outputs": [],
   "source": [
    "#Importamos algunas funciones adicionales para realizar una regresión lineal y calcular R^2\n",
    "from sklearn.linear_model import LinearRegression\n",
    "from sklearn.metrics import r2_score"
   ]
  },
  {
   "cell_type": "code",
   "execution_count": 16,
   "id": "aa4852f2",
   "metadata": {
    "scrolled": false
   },
   "outputs": [
    {
     "data": {
      "image/png": "[encoded data removed]",
      "text/plain": [
       "<Figure size 800x600 with 1 Axes>"
      ]
     },
     "metadata": {},
     "output_type": "display_data"
    }
   ],
   "source": [
    "#Modelo de regresión lineal\n",
    "modelo = LinearRegression()\n",
    "modelo.fit(colesterol_grupo1.values.reshape(-1, 1), presion_despues_grupo1)\n",
    "\n",
    "#Coeficiente de determinación (R^2)\n",
    "predicciones = modelo.predict(colesterol_grupo1.values.reshape(-1, 1))\n",
    "r_cuadrado = r2_score(presion_despues_grupo1, predicciones)\n",
    "\n",
    "#Diagrama de dispersión con la línea de regresión\n",
    "plt.figure(figsize=(8, 6))\n",
    "sns.scatterplot(x=colesterol_grupo1, y=presion_despues_grupo1, color='blue', alpha=0.5)\n",
    "plt.plot(colesterol_grupo1, predicciones, color='red')\n",
    "\n",
    "#Etiquetas y título\n",
    "plt.title('Relación entre Presión Sistólica Después y Colesterol (Grupo 1)')\n",
    "plt.xlabel('Colesterol')\n",
    "plt.ylabel('Presión Sistólica Después')\n",
    "\n",
    "#Valor de R^2 en la esquina superior derecha del gráfico\n",
    "plt.text(plt.xlim()[1], plt.ylim()[1], f'$R^2 = {r_cuadrado:.2f}$', fontsize=12, color='green')\n",
    "\n",
    "#Mostramos el diagrama de dispersión\n",
    "plt.grid(True)\n",
    "plt.show()"
   ]
  },
  {
   "cell_type": "markdown",
   "id": "17fa5799",
   "metadata": {},
   "source": [
    "La forma en la que los datos se ordenan y se agrupan alrededor de la línea de tendencia indican, una vez más, una correlación positiva. Además, el valor del coeficiente de determinación (R^2) de **0.59** significa que aproximadamente el 59% de la variabilidad en la presión sistólica se puede explicar por el colesterol en el Grupo 1. Esto sugiere una **relación moderada a fuerte entre ambas variables**."
   ]
  },
  {
   "cell_type": "markdown",
   "id": "0073b3e0",
   "metadata": {},
   "source": [
    "---"
   ]
  },
  {
   "cell_type": "markdown",
   "id": "f85970a7",
   "metadata": {},
   "source": [
    "## b) Modelo lineal que explica la presión sistólica del paciente joven a los 60 minutos de ingerir el medicamento en función de su colesterol total y estimación para un paciente del Grupo 1 cuyo colesterol total es 105 mg/dL"
   ]
  },
  {
   "cell_type": "markdown",
   "id": "a3fb2acc",
   "metadata": {},
   "source": [
    "Ajustaremos el modelo de regresión lineal proporcionado anteriormente utilizando el 'Colesterol total' como variable predictora y la 'Presión sistólica después' como variable objetivo. De esta manera, realizaremos una predicción para un paciente del Grupo 1 cuyo colesterol total sea de 105 mg/dL e imprimiremos en la consola el valor de presión sistólica estimado."
   ]
  },
  {
   "cell_type": "code",
   "execution_count": 17,
   "id": "48a9179b",
   "metadata": {},
   "outputs": [
    {
     "name": "stdout",
     "output_type": "stream",
     "text": [
      "Presión sistólica estimada para un paciente del Grupo 1 con colesterol total de 105 mg/dL: 69.96933033591682\n"
     ]
    },
    {
     "name": "stderr",
     "output_type": "stream",
     "text": [
      "/Users/diegobenjaminvargas/anaconda3/lib/python3.11/site-packages/sklearn/base.py:464: UserWarning: X does not have valid feature names, but LinearRegression was fitted with feature names\n",
      "  warnings.warn(\n"
     ]
    }
   ],
   "source": [
    "#Filtramos una vez más los datos del Grupo 1 para este ejercicio\n",
    "grupo1 = df[df['Grupo'] == 1]\n",
    "\n",
    "#Variables predictoras (colesterol total) y la variable objetivo (presión sistólica después)\n",
    "X = grupo1[['Colesterol total']]\n",
    "y = grupo1['Presión sistólica después']\n",
    "\n",
    "#Ajustamos el modelo de regresión lineal\n",
    "modelo.fit(X, y)\n",
    "\n",
    "#Predicción para un paciente con colesterol total de 105 mg/dL\n",
    "colesterol_paciente = [[105]]\n",
    "presion_predicha = modelo.predict(colesterol_paciente)\n",
    "\n",
    "print(\"Presión sistólica estimada para un paciente del Grupo 1 con colesterol total de 105 mg/dL:\", presion_predicha[0])"
   ]
  },
  {
   "cell_type": "markdown",
   "id": "e91c2548",
   "metadata": {},
   "source": [
    "*La advertencia desplegada (UserWarning) es meramente informativa y no afecta a la funcionalidad del modelo en sí. Hacemos caso omiso de ella.\n",
    "\n",
    "Es importante tener en cuenta que esta es una estimación basada en el modelo y puede haber cierto margen de error. Además, otros factores no considerados en el modelo podrían influir en la presión sistólica real del paciente."
   ]
  },
  {
   "cell_type": "markdown",
   "id": "1ada3cf7",
   "metadata": {},
   "source": [
    "---"
   ]
  },
  {
   "cell_type": "markdown",
   "id": "1b71e27c",
   "metadata": {},
   "source": [
    "## c) Porcentaje no explicado en el anterior modelo y mejoras"
   ]
  },
  {
   "cell_type": "markdown",
   "id": "fcda50db",
   "metadata": {},
   "source": [
    "Al estudiar el modelo de regresión lineal, habíamos calculado el valor del coeficiente de determinación (R^2), que fue de **0.59**. Este valor indica, por lo tanto, que aún queda apróximadamente un **41%** de la variabilidad que no se explica por el modelo y puede ser atribuida a otros factores no incluidos en el modelo de regresión.\n",
    "\n",
    "Para mejorar nuestro modelo podríamos considerar incluir otras variables y explorar si tienen una relación con la presión sistólica y agregarlas al modelo. Así, pasaríamos a realizar una regresión lineal múltiple, donde utilizaríamos varias variables predictoras para predecir una variable de respuesta y mejorar la capacidad predictiva del modelo."
   ]
  },
  {
   "cell_type": "markdown",
   "id": "2a00fe51",
   "metadata": {},
   "source": [
    "---"
   ]
  },
  {
   "cell_type": "markdown",
   "id": "5e9709b7",
   "metadata": {},
   "source": [
    "## d) Variación si aumentásemos el colesterol de un paciente en 5 mg/dL. ¿Qué variación experimentaría su presión sistólica después de 60 minutos de ingerir el medicamento?"
   ]
  },
  {
   "cell_type": "markdown",
   "id": "fda8458f",
   "metadata": {},
   "source": [
    "Para calcular el cambio en la presión sistólica al aumentar el colesterol en 5 mg/dL, primero obtendremos el coeficiente de regresión que nos ayudará en el cálculo."
   ]
  },
  {
   "cell_type": "code",
   "execution_count": 18,
   "id": "f97f7a76",
   "metadata": {},
   "outputs": [
    {
     "name": "stdout",
     "output_type": "stream",
     "text": [
      "El coeficiente de regresión asociado con el colesterol total es: 0.6076138687445473\n"
     ]
    }
   ],
   "source": [
    "beta_1 = modelo.coef_[0]\n",
    "\n",
    "print(\"El coeficiente de regresión asociado con el colesterol total es:\", beta_1)"
   ]
  },
  {
   "cell_type": "markdown",
   "id": "86849587",
   "metadata": {},
   "source": [
    "Ahora, asignaremos la variable para el aumento del colesterol y haremos el cálculo:"
   ]
  },
  {
   "cell_type": "code",
   "execution_count": 19,
   "id": "d45559c1",
   "metadata": {},
   "outputs": [
    {
     "name": "stdout",
     "output_type": "stream",
     "text": [
      "El cambio en la presión sistólica después de 60 minutos de ingerir el medicamento al aumentar el colesterol en 5 mg/dL es de aproximadamente 3.038069343722736 mmHg.\n"
     ]
    }
   ],
   "source": [
    "#Aumento en mg/dL del colesterol\n",
    "aumento_colesterol = 5\n",
    "\n",
    "#Cálculo del cambio en la presión sistólica después de 60 minutos\n",
    "cambio_presion_sistolica = aumento_colesterol * beta_1\n",
    "\n",
    "print(\"El cambio en la presión sistólica después de 60 minutos de ingerir el medicamento \"\n",
    "      f\"al aumentar el colesterol en {aumento_colesterol} mg/dL es de aproximadamente \"\n",
    "      f\"{cambio_presion_sistolica} mmHg.\")"
   ]
  },
  {
   "cell_type": "markdown",
   "id": "b8319069",
   "metadata": {},
   "source": [
    "Este resultado indica que, en promedio, se espera un aumento de aproximadamente **3.04 mmHg** en la presión sistólica después de 60 minutos por cada aumento de 5 mg/dL en el colesterol total del paciente. Esta información es útil para entender cómo el colesterol total puede influir en la presión arterial y cómo se relacionan estas variables en el contexto del estudio."
   ]
  },
  {
   "cell_type": "markdown",
   "id": "820505da",
   "metadata": {},
   "source": [
    "<hr style=\"border:2px solid blue\">"
   ]
  },
  {
   "cell_type": "markdown",
   "id": "e2e4fa9b",
   "metadata": {},
   "source": [
    "# Ejercicio 3"
   ]
  },
  {
   "cell_type": "markdown",
   "id": "ae7b59d1",
   "metadata": {},
   "source": [
    "## a) Presión sistólica media de 130 mm de Hg en Grupo 2\n",
    "Queremos estudiar si se puede admitir que la presión sistólica media en el momento de la ingestión de la población adulta (grupo 2) es 130 mm de Hg. Obtendremos un intervalo de confianza al 95% y al 99% para el nivel medio de presión sistólica antes de la toma del medicamento en el grupo de los adultos."
   ]
  },
  {
   "cell_type": "markdown",
   "id": "75cfd965",
   "metadata": {},
   "source": [
    "### Intervalos de confianza\n",
    "Para estudiar si se puede admitir que la presión sistólica media en el momento de la ingestión del medicamento para el Grupo 2, primero obtendremos el intervalo de confianza al **95%** y al **99%** para el nivel medio. Al desconocer la desviación estándar de la población utilizaremos la **distribución t-Student**."
   ]
  },
  {
   "cell_type": "code",
   "execution_count": 20,
   "id": "0e63416e",
   "metadata": {},
   "outputs": [
    {
     "name": "stdout",
     "output_type": "stream",
     "text": [
      "Intervalo de confianza al 95%: (123.8955, 131.0712)\n",
      "Intervalo de confianza al 99%: (122.7107, 132.256)\n"
     ]
    }
   ],
   "source": [
    "#Filtramos los datos del grupo 2 para este estudio\n",
    "datos_grupo2 = df[df['Grupo'] == 2]\n",
    "\n",
    "#Extraemos los valores de presión sistólica antes del grupo 2\n",
    "presion_sistolica_grupo2 = datos_grupo2['Presion sistólica antes'].values\n",
    "\n",
    "#Media y desviación estándar muestral\n",
    "media = np.mean(presion_sistolica_grupo2)\n",
    "desviacion_estandar = np.std(presion_sistolica_grupo2, ddof=1)  #ddof=1 para calcular la desviación estándar muestral\n",
    "\n",
    "#Tamaño de la muestra (60 pacientes)\n",
    "n = len(presion_sistolica_grupo2)\n",
    "\n",
    "#Calculamos el error estándar de la media\n",
    "error_estandar = desviacion_estandar / np.sqrt(n)\n",
    "\n",
    "#Calculamos los valores críticos de la distribución t de Student\n",
    "t_alpha_95 = stats.t.ppf(0.975, df=n-1)  #Para un nivel de confianza del 95%\n",
    "t_alpha_99 = stats.t.ppf(0.995, df=n-1)  #Para un nivel de confianza del 99%\n",
    "\n",
    "#Calculamos los márgenes de error\n",
    "margin_error_95 = t_alpha_95 * error_estandar\n",
    "margin_error_99 = t_alpha_99 * error_estandar\n",
    "\n",
    "#Construimos los intervalos de confianza y redondeamos para mostrar sólo 4 decimales\n",
    "intervalo_confianza_95 = (media - margin_error_95, media + margin_error_95)\n",
    "intervalo_confianza_99 = (media - margin_error_99, media + margin_error_99)\n",
    "\n",
    "intervalo_confianza_95 = tuple(round(valor, 4) for valor in intervalo_confianza_95)\n",
    "intervalo_confianza_99 = tuple(round(valor, 4) for valor in intervalo_confianza_99)\n",
    "\n",
    "print(\"Intervalo de confianza al 95%:\", intervalo_confianza_95)\n",
    "print(\"Intervalo de confianza al 99%:\", intervalo_confianza_99)"
   ]
  },
  {
   "cell_type": "markdown",
   "id": "bd611cb2",
   "metadata": {},
   "source": [
    "Los resultados indican que, con un nivel de confianza del 95%, podemos estar razonablemente seguros de que la presión sistólica media en el momento de la ingestión del Grupo 2 se encuentra en el intervalo entre **123.8955** y **131.0712** mmHg. De manera similar, con un nivel de confianza del 99%, podemos estar aún más seguros de que la presión sistólica media está en el intervalo entre **122.7107** y **132.256**."
   ]
  },
  {
   "cell_type": "markdown",
   "id": "0014eacd",
   "metadata": {},
   "source": [
    "### Contraste de hipótesis\n",
    "Para contestar a la cuestión planteada haremos el siguiente contraste de hipótesis."
   ]
  },
  {
   "cell_type": "markdown",
   "id": "0d456125",
   "metadata": {},
   "source": [
    "Primero formularemos nuestras hipótesis nula y alternativa:\n",
    "\n",
    "1. **Hipótesis nula (H0): la presión sistólica media en el Grupo 2 es igual a 130mmHg.**\n",
    "2. **Hipótesis alternativa (H1): la presión sistólica media en el Grupo 2 no es igual a 130mmHg.**\n",
    "\n",
    "Para calcular el estadístico de prueba, recordemos nuestra media muestral, nuestra media poblacional hipotética, nuestra desviación estándar muestral y el tamaño de nuestra muestra, y definamos sus valores como parámetros: "
   ]
  },
  {
   "cell_type": "code",
   "execution_count": 21,
   "id": "3226d623",
   "metadata": {},
   "outputs": [
    {
     "name": "stdout",
     "output_type": "stream",
     "text": [
      "Media muestral: 127.48333333333333\n",
      "Media poblacional hipotética: 130(mmHg)\n",
      "Desviación estándar muestral: 13.888773257522425\n",
      "Tamaño de nuestra muestra:  60\n"
     ]
    }
   ],
   "source": [
    "x_bar = media\n",
    "print('Media muestral:', x_bar)\n",
    "\n",
    "mu = 130\n",
    "print(f'Media poblacional hipotética: {mu}(mmHg)')\n",
    "\n",
    "s = desviacion_estandar\n",
    "print('Desviación estándar muestral:', s)\n",
    "\n",
    "print('Tamaño de nuestra muestra: ', n)"
   ]
  },
  {
   "cell_type": "markdown",
   "id": "2e49d94b",
   "metadata": {},
   "source": [
    "Seleccionamos un **nivel de significancia** de **0.05**, que indicará la probabilidad de cometer un error de Tipo I al rechazar incorrectamenta la hipótesis nula.\n",
    "\n",
    "Ahora, hagamos el cálculo de nuestro estadístico de prueba t, siguiendo la fórmula, y el de nuestro valor p haciendo uso de la función 't.cdf()' de la librería scipy.stats. En seguida, comprobaremos si nuestro valor p es mayor o menor que nuestro nivel de significancia, y dependiendo del resultado, rechazaremos o no rechazaremos la hipótesis nula."
   ]
  },
  {
   "cell_type": "code",
   "execution_count": 22,
   "id": "994ce542",
   "metadata": {},
   "outputs": [
    {
     "name": "stdout",
     "output_type": "stream",
     "text": [
      "Estadístico de prueba t: -1.4035808501195257\n",
      "Valor p: 0.1656852574507901\n",
      "Conclusión: No se rechaza la hipótesis nula\n"
     ]
    }
   ],
   "source": [
    "#Estadístico de prueba t\n",
    "t_statistic = (x_bar - mu) / (s / (n ** 0.5))\n",
    "\n",
    "#Valor p\n",
    "p_value = 2 * (1 - stats.t.cdf(abs(t_statistic), df=n - 1))\n",
    "\n",
    "#Nivel de significancia para un intervalo de confianza del 95%\n",
    "alpha = 0.05\n",
    "\n",
    "#Imprimir los resultados\n",
    "print(\"Estadístico de prueba t:\", t_statistic)\n",
    "print(\"Valor p:\", p_value)\n",
    "\n",
    "#Comprobamos si se rechaza la hipótesis nula para un intervalo de confianza del 95%\n",
    "if p_value < alpha:\n",
    "    print(\"Conclusión: Se rechaza la hipótesis nula\")\n",
    "else:\n",
    "    print(\"Conclusión: No se rechaza la hipótesis nula\")"
   ]
  },
  {
   "cell_type": "markdown",
   "id": "a81473ad",
   "metadata": {},
   "source": [
    "Haremos el mismo procedimiento, pero para un nivel de significancia de 0.01, siguiendo un intervalo de confianza del 99%."
   ]
  },
  {
   "cell_type": "code",
   "execution_count": 23,
   "id": "09a8c77f",
   "metadata": {
    "scrolled": true
   },
   "outputs": [
    {
     "name": "stdout",
     "output_type": "stream",
     "text": [
      "Estadístico de prueba t: -1.4035808501195257\n",
      "Valor p: 0.1656852574507901\n",
      "Conclusión: No se rechaza la hipótesis nula\n"
     ]
    }
   ],
   "source": [
    "#Nivel de significancia para un intervalo de confianza del 99%\n",
    "alpha = 0.01\n",
    "\n",
    "#Imprimir los resultados\n",
    "print(\"Estadístico de prueba t:\", t_statistic)\n",
    "print(\"Valor p:\", p_value)\n",
    "\n",
    "#Comprobamos si se rechaza la hipótesis nula para un intervalo de confianza del 99%\n",
    "if p_value < alpha:\n",
    "    print(\"Conclusión: Se rechaza la hipótesis nula\")\n",
    "else:\n",
    "    print(\"Conclusión: No se rechaza la hipótesis nula\")"
   ]
  },
  {
   "cell_type": "markdown",
   "id": "1d406e1b",
   "metadata": {},
   "source": [
    "Basándonos en los valores p obtenidos y contrastándolos con los niveles de significancia (de 0.05 y 0.01), verificamos que no hay suficiente evidencia para rechazar la hipótesis nula.\n",
    "\n",
    "Por lo tanto, con un nivel de confianza del 95% y un nivel de confianza del 99%, **no podemos concluir que la presión sistólica media en el momento de la ingestión del medicamento sea diferente de 130mmHg para la población adulta (Grupo 2)**."
   ]
  },
  {
   "cell_type": "markdown",
   "id": "c94730da",
   "metadata": {},
   "source": [
    "---"
   ]
  },
  {
   "cell_type": "markdown",
   "id": "4ffe5c48",
   "metadata": {},
   "source": [
    "## b) Diferencia de medias en la presión sistólica entre adultos y jóvenes después de la ingestión del medicamento"
   ]
  },
  {
   "cell_type": "markdown",
   "id": "e26e62e7",
   "metadata": {},
   "source": [
    "Para el siguiente estudio, obtendremos el intervalo de confianza al 95% y concluiremos si la presión sistólica media de la población después de la ingestión del medicamento es distinta dependiendo de la edad."
   ]
  },
  {
   "cell_type": "code",
   "execution_count": 24,
   "id": "fe4ebea5",
   "metadata": {},
   "outputs": [
    {
     "name": "stdout",
     "output_type": "stream",
     "text": [
      "La diferencia de medias es de: -3.549999999999997\n"
     ]
    }
   ],
   "source": [
    "#Filtramos los datos del grupo 1 y 2 para este estudio\n",
    "datos_grupo1 = df[df['Grupo'] == 1]\n",
    "datos_grupo2 = df[df['Grupo'] == 2]\n",
    "\n",
    "#Extraemos los valores de presión sistólica después de ambos grupos\n",
    "presion_despues_grupo1 = datos_grupo1['Presión sistólica después'].values\n",
    "presion_despues_grupo2 = datos_grupo2['Presión sistólica después'].values\n",
    "\n",
    "#Media y desviación estándar muestral\n",
    "media_g1 = np.mean(presion_despues_grupo1)\n",
    "std_g1 = np.std(presion_despues_grupo1, ddof=1)\n",
    "media_g2 = np.mean(presion_despues_grupo2)\n",
    "std_g2 = np.std(presion_despues_grupo2, ddof=1)\n",
    "\n",
    "#Tamaños de las muestras (G1: 40 y G2: 60)\n",
    "n1 = len(presion_despues_grupo1)\n",
    "n2 = len(presion_despues_grupo2)\n",
    "\n",
    "#Diferencia de medias\n",
    "diferencia_medias = media_g1 - media_g2\n",
    "print('La diferencia de medias es de:', diferencia_medias)"
   ]
  },
  {
   "cell_type": "code",
   "execution_count": 25,
   "id": "f369d337",
   "metadata": {},
   "outputs": [
    {
     "name": "stdout",
     "output_type": "stream",
     "text": [
      "Intervalo de confianza al 95% para la diferencia de medias: (-8.88269153315477, 1.7826915331547752)\n"
     ]
    }
   ],
   "source": [
    "#Intervalo de confianza al 95% para la diferencia de medias\n",
    "grados_libertad = n1 + n2 - 2  # Grados de libertad\n",
    "t_alpha_95 = stats.t.ppf(0.975, df=grados_libertad)  # Valor crítico para alfa/2\n",
    "margen_error = t_alpha_95 * np.sqrt((std_g1 ** 2 / n1) + (std_g2 ** 2 / n2))  # Margen de error\n",
    "intervalo_confianza_95 = (diferencia_medias - margen_error, diferencia_medias + margen_error)\n",
    "\n",
    "#Resultados\n",
    "print(\"Intervalo de confianza al 95% para la diferencia de medias:\", intervalo_confianza_95)"
   ]
  },
  {
   "cell_type": "markdown",
   "id": "11f9ffe8",
   "metadata": {},
   "source": [
    "### Conclusión\n",
    "Basándonos en el intervalo de confianza obtenido para la diferencia de medias en la presión sistólica entre adultos y jóvenes después de la ingestión del medicamento, que fue de **(-8.88, 1.78)**, concluimos que **no podemos afirmar con un nivel de confianza del 95% que la presión sistólica media de la población es diferente dependiendo de la edad**. Esto se debe a que el intervalo de confianza incluye el valor cero, lo que indica que no hay una diferencia significativa en la presión sistólica media entre adultos y jóvenes después de la ingestión del medicamento."
   ]
  },
  {
   "cell_type": "markdown",
   "id": "0da99089",
   "metadata": {},
   "source": [
    "---"
   ]
  },
  {
   "cell_type": "markdown",
   "id": "3d693c5a",
   "metadata": {},
   "source": [
    "## c) Estudio de proporción de la población con prehipertensión (130 mmHg) (intervalo de confianza del 99% y contraste de hipótesis)"
   ]
  },
  {
   "cell_type": "markdown",
   "id": "f27f58b2",
   "metadata": {},
   "source": [
    "Para obtener un intervalo de confianza, utilizaremos la distribución normal estándar (z), calculando, primeramente, la proporción muestral de personas con presión sistólica igual o superior a 130mmHg."
   ]
  },
  {
   "cell_type": "code",
   "execution_count": 26,
   "id": "afc22992",
   "metadata": {},
   "outputs": [
    {
     "name": "stdout",
     "output_type": "stream",
     "text": [
      "La proporción muestral de personas con presión sistólica igual o superior a 130mmHg es: 0.35\n"
     ]
    }
   ],
   "source": [
    "#Número de personas con presión sistólica igual o superior a 130 mmHg\n",
    "n = df[df['Presion sistólica antes'] >= 130].shape[0]\n",
    "\n",
    "#Total de personas en la muestra\n",
    "N = df.shape[0]\n",
    "\n",
    "#Proporción de personas con presión sistólica mayor o igual a 130 mmHg\n",
    "proporcion = n / N\n",
    "\n",
    "print('La proporción muestral de personas con presión sistólica igual o superior a 130mmHg es:', proporcion)"
   ]
  },
  {
   "cell_type": "markdown",
   "id": "38376e40",
   "metadata": {},
   "source": [
    "### Intervalo de confianza"
   ]
  },
  {
   "cell_type": "code",
   "execution_count": 27,
   "id": "65880fbb",
   "metadata": {},
   "outputs": [
    {
     "name": "stdout",
     "output_type": "stream",
     "text": [
      "Intervalo de confianza al 99% para la proporción de personas con presión sistólica mayor o igual a 130 mmHg:\n",
      "Limite inferior: 0.22714077255930973\n",
      "Limite superior: 0.4728592274406902\n"
     ]
    }
   ],
   "source": [
    "#Error estándar de la proporción\n",
    "error_estandar_proporcion = np.sqrt(proporcion * (1 - proporcion) / N)\n",
    "\n",
    "#Valor crítico Z para un nivel de confianza del 99%\n",
    "z_alpha = stats.norm.ppf(1 - 0.01 / 2)\n",
    "\n",
    "#Límite inferior del intervalo de confianza\n",
    "limite_inferior = proporcion - z_alpha * error_estandar_proporcion\n",
    "\n",
    "#Límite superior del intervalo de confianza\n",
    "limite_superior = proporcion + z_alpha * error_estandar_proporcion\n",
    "\n",
    "print(\"Intervalo de confianza al 99% para la proporción de personas con presión sistólica mayor o igual a 130 mmHg:\")\n",
    "print(\"Limite inferior:\", limite_inferior)\n",
    "print(\"Limite superior:\", limite_superior)"
   ]
  },
  {
   "cell_type": "markdown",
   "id": "b1674687",
   "metadata": {},
   "source": [
    "Con un intervalo de confianza del 99%, podemos estar bastante seguros de que **la proporción de personas con presión sistólica mayor o igual a 130 mmHg se encuentra entre aproximadamente 22.71% y 47.29%**."
   ]
  },
  {
   "cell_type": "markdown",
   "id": "477e6225",
   "metadata": {},
   "source": [
    "### Contraste de hipótesis\n",
    "A continuación, se desea contrastar la hipótesis de que el porcentaje de la población con presión sistólica superior o igual a 130mmHg es de 0,30, con un nivel de significación del 5%. \n",
    "\n",
    "Nuestras hipótesis:\n",
    "1. **Hipótesis nula (H0): la proporción poblacional es igual a 0.30**\n",
    "2. **Hipótesis alternativa (H1): la proporción poblacional es diferente de 0.30**\n",
    "\n",
    "Calcularemos el estadístico de prueba Z y su correspondiente valor p para evaluar si hay suficiente evidencia para rechazar la hipótesis nula."
   ]
  },
  {
   "cell_type": "code",
   "execution_count": 28,
   "id": "aa1858e9",
   "metadata": {},
   "outputs": [
    {
     "name": "stdout",
     "output_type": "stream",
     "text": [
      "Estadístico de prueba Z: 1.0910894511799616\n",
      "Valor p: 0.27523352407483426\n",
      "Conclusión: No se rechaza la hipótesis nula\n"
     ]
    }
   ],
   "source": [
    "#Proporción observada en la muestra\n",
    "prop_obs = 0.35\n",
    "\n",
    "#Proporción hipotética\n",
    "prop_hipotetica = 0.30\n",
    "\n",
    "#Nivel de significancia del 5%\n",
    "alpha = 0.05\n",
    "\n",
    "#Estadístico de prueba Z\n",
    "desviacion_estandar = np.sqrt((prop_hipotetica * (1 - prop_hipotetica)) / N)\n",
    "Z = (prop_obs - prop_hipotetica) / desviacion_estandar\n",
    "\n",
    "#Valor p (usamos una distribución normal estándar)\n",
    "p_value = 2 * (1 - stats.norm.cdf(abs(Z)))\n",
    "\n",
    "#Resultados\n",
    "print(\"Estadístico de prueba Z:\", Z)\n",
    "print(\"Valor p:\", p_value)\n",
    "\n",
    "#Comprobamos si se rechaza la hipótesis nula para un intervalo de confianza del 95%\n",
    "if p_value < alpha:\n",
    "    print(\"Conclusión: Se rechaza la hipótesis nula\")\n",
    "else:\n",
    "    print(\"Conclusión: No se rechaza la hipótesis nula\")"
   ]
  },
  {
   "cell_type": "markdown",
   "id": "901a0a62",
   "metadata": {},
   "source": [
    "### Conclusión\n",
    "Siendo que el **valor p** asociado es aproximadamente **0.275**, siendo mayor que el nivel de significancia elegido de 0.05, no hay suficiente evidencia para rechazar la hipótesis nula. En otras palabras, no hay suficiente evidencia para concluir que la proporción de la población con presión sistólica igual o superior a 130mmHg es diferente de 0.30. "
   ]
  },
  {
   "cell_type": "markdown",
   "id": "6f8143fd",
   "metadata": {},
   "source": [
    "---"
   ]
  },
  {
   "cell_type": "markdown",
   "id": "3ccb8b50",
   "metadata": {},
   "source": [
    "## d) Eficacia del medicamento en la población adulta"
   ]
  },
  {
   "cell_type": "markdown",
   "id": "84e70687",
   "metadata": {},
   "source": [
    "Para evaluar si existe una variación significativa de la presión sistólica después de la toma del medicamento en la población adulta, realizaremos un contraste de hipótesis utilizando muestras emparejadas, donde compararemos las diferencias entre la presión sistólica antes y después de la toma del medicamento en el Grupo 2. \n",
    "\n",
    "Primero, calcularemos la media y la desviación estándar de las diferencias entre la presión sistólica antes y después de la toma del medicamento en el grupo de adultos."
   ]
  },
  {
   "cell_type": "code",
   "execution_count": 29,
   "id": "57db3193",
   "metadata": {},
   "outputs": [
    {
     "name": "stdout",
     "output_type": "stream",
     "text": [
      "Media de las diferencias: -4.033333333333333\n",
      "Desviación estándar de las diferencias: 8.256413360650066\n"
     ]
    }
   ],
   "source": [
    "#Filtramos el DataFrame para incluir solo observaciones del Grupo 2\n",
    "grupo2 = df[df['Grupo'] == 2]\n",
    "\n",
    "#Diferencias entre la presión sistólica antes y después del medicamento\n",
    "diferencias = grupo2['Presión sistólica después'] - grupo2['Presion sistólica antes']\n",
    "\n",
    "#Media y la desviación estándar de las diferencias\n",
    "media_diferencias = diferencias.mean()\n",
    "std_diferencias = diferencias.std()\n",
    "\n",
    "print(\"Media de las diferencias:\", media_diferencias)\n",
    "print(\"Desviación estándar de las diferencias:\", std_diferencias)"
   ]
  },
  {
   "cell_type": "markdown",
   "id": "90abd383",
   "metadata": {},
   "source": [
    "### Contraste de hipótesis\n",
    "Utilizaremos la pruebra **t-Student**, ya que desconocemos la desviación estándar poblacional.\n",
    "\n",
    "Nuestras hipótesis son:\n",
    "1. **Hipótesis nula (H0): La diferencia media en la presión sistólica antes y después del medicamento es cero (no hay cambio).**\n",
    "2. **Hipótesis alternativa (H1): La diferencia media en la presión sistólica antes y después del medicamento es diferente de cero (hay un cambio).**\n",
    "\n",
    "Calcularemos el estadístico de prueba t para una muestra emparejada, dividiendo la diferencia media entre el error estándar de ésta. Luego, usaremos el estadístico t y los grados de libertad (n-1) para calcular el valor p correspondiente. Si el valor p es menor que el nivel de significancia (0.05), rechazaremos la hipótesis nula y concluiremos que hay evidencia suficiente para decir que la diferencia media es estadísticamente significativa."
   ]
  },
  {
   "cell_type": "code",
   "execution_count": 30,
   "id": "ac14016c",
   "metadata": {},
   "outputs": [
    {
     "name": "stdout",
     "output_type": "stream",
     "text": [
      "Estadístico de prueba t: -3.783975473939529\n",
      "Valor p: 0.0003631177548992737\n",
      "Conclusión: Se rechaza la hipótesis nula\n"
     ]
    }
   ],
   "source": [
    " #Tamaño de la muestra\n",
    "n = len(diferencias)\n",
    "\n",
    "#Nivel de significancia del 5%\n",
    "alpha = 0.05\n",
    "\n",
    "#Estadístico de prueba t\n",
    "t_statistic = media_diferencias / (std_diferencias / (n ** 0.5))\n",
    "\n",
    "#Calcular el valor p de dos colas\n",
    "p_value = stats.t.sf(abs(t_statistic), df=n-1) * 2\n",
    "\n",
    "print(\"Estadístico de prueba t:\", t_statistic)\n",
    "print(\"Valor p:\", p_value)\n",
    "\n",
    "#Comprobamos si se rechaza la hipótesis nula para un intervalo de confianza del 95%\n",
    "if p_value < alpha:\n",
    "    print(\"Conclusión: Se rechaza la hipótesis nula\")\n",
    "else:\n",
    "    print(\"Conclusión: No se rechaza la hipótesis nula\")"
   ]
  },
  {
   "cell_type": "markdown",
   "id": "d5fa4d47",
   "metadata": {},
   "source": [
    "### Conclusión\n",
    "Podemos concluir que hay evidencia estadística significativa para afirmar que **el medicamento tiene un efecto positivo en la reducción de la presión sistólica en la población adulta**. Este resultado respalda la eficacia del medicamento en el tratamiento de la presión arterial alta en este grupo específico de pacientes."
   ]
  },
  {
   "cell_type": "markdown",
   "id": "2979f26d",
   "metadata": {},
   "source": [
    "<hr style=\"border:2px solid blue\">"
   ]
  }
 ],
 "metadata": {
  "kernelspec": {
   "display_name": "Python 3 (ipykernel)",
   "language": "python",
   "name": "python3"
  },
  "language_info": {
   "codemirror_mode": {
    "name": "ipython",
    "version": 3
   },
   "file_extension": ".py",
   "mimetype": "text/x-python",
   "name": "python",
   "nbconvert_exporter": "python",
   "pygments_lexer": "ipython3",
   "version": "3.11.5"
  }
 },
 "nbformat": 4,
 "nbformat_minor": 5
}
